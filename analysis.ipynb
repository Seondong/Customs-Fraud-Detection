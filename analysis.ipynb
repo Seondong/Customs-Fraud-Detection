{
 "cells": [
  {
   "cell_type": "code",
   "execution_count": 1,
   "metadata": {},
   "outputs": [],
   "source": [
    "import pandas as pd\n",
    "import numpy as np\n",
    "import glob\n",
    "pd.set_option('display.max_columns', 50)"
   ]
  },
  {
   "cell_type": "code",
   "execution_count": 2,
   "metadata": {},
   "outputs": [],
   "source": [
    "fn = glob.glob('result-*.csv')\n",
    "dfs = {}"
   ]
  },
  {
   "cell_type": "code",
   "execution_count": 3,
   "metadata": {
    "scrolled": true
   },
   "outputs": [
    {
     "data": {
      "text/plain": [
       "['result-1598861514-badge_DATE-5.csv',\n",
       " 'result-1598861514-badge-5.csv',\n",
       " 'result-1598939650-random-5.csv',\n",
       " 'result-1598941070-diversity-5.csv',\n",
       " 'result-1598941375-DATE-5.csv',\n",
       " 'result-1598942457-hybrid-5.csv',\n",
       " 'result-1598944899-badge_DATE-5.csv',\n",
       " 'result-1598945016-DATE-5.csv',\n",
       " 'result-1598945040-hybrid-5.csv',\n",
       " 'result-1598945058-random-5.csv',\n",
       " 'result-1598957365-hybrid-5.csv',\n",
       " 'result-1598957650-hybrid-5.csv',\n",
       " 'result-1599004118-random-5.csv',\n",
       " 'result-1599007324-random-5.csv',\n",
       " 'result-1599009358-DATE-5.csv',\n",
       " 'result-1599009468-hybrid-5.csv',\n",
       " 'result-1599021226-random-5.csv',\n",
       " 'result-1599060070-random-5.csv',\n",
       " 'result-1599060261-hybrid-5.csv',\n",
       " 'result-1599060358-DATE-5.csv']"
      ]
     },
     "execution_count": 3,
     "metadata": {},
     "output_type": "execute_result"
    }
   ],
   "source": [
    "fn"
   ]
  },
  {
   "cell_type": "code",
   "execution_count": 4,
   "metadata": {},
   "outputs": [],
   "source": [
    "for name in fn:\n",
    "    dfs[name] = pd.read_csv(name, sep=' ')"
   ]
  },
  {
   "cell_type": "code",
   "execution_count": 5,
   "metadata": {},
   "outputs": [
    {
     "name": "stdout",
     "output_type": "stream",
     "text": [
      "result-1598861514-badge_DATE-5.csv finetune 0.0355 0.0474 0.0432\n",
      "result-1598861514-badge-5.csv finetune 0.0318 0.0494 0.0562\n",
      "result-1598939650-random-5.csv finetune 0.0341 0.0531 0.0547\n",
      "result-1598941070-diversity-5.csv finetune 0.0351 0.0472 0.0555\n",
      "result-1598941375-DATE-5.csv finetune 0.0343 0.0532 0.059\n",
      "result-1598942457-hybrid-5.csv finetune 0.0404 0.0431 0.0428\n",
      "result-1598944899-badge_DATE-5.csv scratch 0.0336 0.0525 0.0811\n",
      "result-1598945016-DATE-5.csv scratch 0.0342 0.0536 0.0595\n",
      "result-1598945040-hybrid-5.csv scratch 0.0334 0.0514 0.0733\n",
      "result-1598945058-random-5.csv scratch 0.0347 0.0544 0.0603\n",
      "result-1598957365-hybrid-5.csv finetune 0.0414 0.053 0.0693\n",
      "result-1598957650-hybrid-5.csv scratch 0.0443 0.0566 0.1186\n",
      "result-1599004118-random-5.csv scratch 0.0382 0.0518 0.055\n",
      "result-1599007324-random-5.csv scratch 0.0356 0.0552 0.0487\n",
      "result-1599009358-DATE-5.csv scratch 0.0328 0.0519 0.0696\n",
      "result-1599009468-hybrid-5.csv scratch 0.0335 0.052 0.0758\n",
      "result-1599021226-random-5.csv finetune 0.0333 0.0528 0.0574\n",
      "result-1599060070-random-5.csv scratch 0.0422 0.0513 0.0524\n",
      "result-1599060261-hybrid-5.csv scratch 0.0619 0.0596 0.0228\n",
      "result-1599060358-DATE-5.csv scratch 0.1295 0.1238 0.0098\n"
     ]
    }
   ],
   "source": [
    "for name in fn:\n",
    "    print(name, dfs[name]['mode'].unique()[0], round(np.mean(dfs[name]['precision']), 4), round(np.mean(dfs[name]['recall']), 4), round(np.mean(dfs[name]['revenue']), 4))"
   ]
  },
  {
   "cell_type": "code",
   "execution_count": 10,
   "metadata": {},
   "outputs": [],
   "source": [
    "df = pd.read_csv(fn[-2], sep=' ')"
   ]
  },
  {
   "cell_type": "code",
   "execution_count": 11,
   "metadata": {},
   "outputs": [
    {
     "data": {
      "text/plain": [
       "Index(['num_train', 'num_test', 'num_select', 'num_total_newly_labeled',\n",
       "       'num_test_illicit', 'test_illicit_rate', 'upper_bound_recall',\n",
       "       'upper_bound_rev', 'sampling', 'percentage', 'mode', 'subsamplings',\n",
       "       'weights', 'unc_mode', 'train_start', 'valid_start', 'test_start',\n",
       "       'test_end', 'numWeek', 'precision', 'recall', 'revenue'],\n",
       "      dtype='object')"
      ]
     },
     "execution_count": 11,
     "metadata": {},
     "output_type": "execute_result"
    }
   ],
   "source": [
    "df.columns"
   ]
  },
  {
   "cell_type": "code",
   "execution_count": 12,
   "metadata": {},
   "outputs": [
    {
     "data": {
      "text/html": [
       "<div>\n",
       "<style scoped>\n",
       "    .dataframe tbody tr th:only-of-type {\n",
       "        vertical-align: middle;\n",
       "    }\n",
       "\n",
       "    .dataframe tbody tr th {\n",
       "        vertical-align: top;\n",
       "    }\n",
       "\n",
       "    .dataframe thead th {\n",
       "        text-align: right;\n",
       "    }\n",
       "</style>\n",
       "<table border=\"1\" class=\"dataframe\">\n",
       "  <thead>\n",
       "    <tr style=\"text-align: right;\">\n",
       "      <th></th>\n",
       "      <th>num_train</th>\n",
       "      <th>num_test</th>\n",
       "      <th>num_select</th>\n",
       "      <th>num_total_newly_labeled</th>\n",
       "      <th>num_test_illicit</th>\n",
       "      <th>test_illicit_rate</th>\n",
       "      <th>upper_bound_recall</th>\n",
       "      <th>upper_bound_rev</th>\n",
       "      <th>sampling</th>\n",
       "      <th>percentage</th>\n",
       "      <th>mode</th>\n",
       "      <th>subsamplings</th>\n",
       "      <th>weights</th>\n",
       "      <th>unc_mode</th>\n",
       "      <th>train_start</th>\n",
       "      <th>valid_start</th>\n",
       "      <th>test_start</th>\n",
       "      <th>test_end</th>\n",
       "      <th>numWeek</th>\n",
       "      <th>precision</th>\n",
       "      <th>recall</th>\n",
       "      <th>revenue</th>\n",
       "    </tr>\n",
       "  </thead>\n",
       "  <tbody>\n",
       "    <tr>\n",
       "      <th>0</th>\n",
       "      <td>5691</td>\n",
       "      <td>3876</td>\n",
       "      <td>193</td>\n",
       "      <td>193</td>\n",
       "      <td>202.0</td>\n",
       "      <td>0.052116</td>\n",
       "      <td>0.959406</td>\n",
       "      <td>1.0</td>\n",
       "      <td>hybrid</td>\n",
       "      <td>5</td>\n",
       "      <td>scratch</td>\n",
       "      <td>-</td>\n",
       "      <td>-</td>\n",
       "      <td>naive</td>\n",
       "      <td>16-01-05</td>\n",
       "      <td>16-01-09</td>\n",
       "      <td>16-01-12</td>\n",
       "      <td>16-01-15</td>\n",
       "      <td>1</td>\n",
       "      <td>0.0881</td>\n",
       "      <td>0.0842</td>\n",
       "      <td>0.0208</td>\n",
       "    </tr>\n",
       "    <tr>\n",
       "      <th>1</th>\n",
       "      <td>7242</td>\n",
       "      <td>1124</td>\n",
       "      <td>56</td>\n",
       "      <td>249</td>\n",
       "      <td>57.0</td>\n",
       "      <td>0.050712</td>\n",
       "      <td>0.985965</td>\n",
       "      <td>1.0</td>\n",
       "      <td>hybrid</td>\n",
       "      <td>5</td>\n",
       "      <td>scratch</td>\n",
       "      <td>-</td>\n",
       "      <td>-</td>\n",
       "      <td>naive</td>\n",
       "      <td>16-01-05</td>\n",
       "      <td>16-01-12</td>\n",
       "      <td>16-01-15</td>\n",
       "      <td>16-01-18</td>\n",
       "      <td>2</td>\n",
       "      <td>0.0357</td>\n",
       "      <td>0.0351</td>\n",
       "      <td>0.0249</td>\n",
       "    </tr>\n",
       "  </tbody>\n",
       "</table>\n",
       "</div>"
      ],
      "text/plain": [
       "   num_train  num_test  num_select  num_total_newly_labeled  num_test_illicit  \\\n",
       "0       5691      3876         193                      193             202.0   \n",
       "1       7242      1124          56                      249              57.0   \n",
       "\n",
       "   test_illicit_rate  upper_bound_recall  upper_bound_rev sampling  \\\n",
       "0           0.052116            0.959406              1.0   hybrid   \n",
       "1           0.050712            0.985965              1.0   hybrid   \n",
       "\n",
       "   percentage     mode subsamplings weights unc_mode train_start valid_start  \\\n",
       "0           5  scratch            -       -    naive    16-01-05    16-01-09   \n",
       "1           5  scratch            -       -    naive    16-01-05    16-01-12   \n",
       "\n",
       "  test_start  test_end  numWeek  precision  recall  revenue  \n",
       "0   16-01-12  16-01-15        1     0.0881  0.0842   0.0208  \n",
       "1   16-01-15  16-01-18        2     0.0357  0.0351   0.0249  "
      ]
     },
     "execution_count": 12,
     "metadata": {},
     "output_type": "execute_result"
    }
   ],
   "source": [
    "df"
   ]
  },
  {
   "cell_type": "code",
   "execution_count": 13,
   "metadata": {},
   "outputs": [
    {
     "data": {
      "text/plain": [
       "(0.0619, 0.059649999999999995, 0.02285)"
      ]
     },
     "execution_count": 13,
     "metadata": {},
     "output_type": "execute_result"
    }
   ],
   "source": [
    "np.mean(df['precision']), np.mean(df['recall']), np.mean(df['revenue'])"
   ]
  }
 ],
 "metadata": {
  "kernelspec": {
   "display_name": "Python 3",
   "language": "python",
   "name": "python3"
  },
  "language_info": {
   "codemirror_mode": {
    "name": "ipython",
    "version": 3
   },
   "file_extension": ".py",
   "mimetype": "text/x-python",
   "name": "python",
   "nbconvert_exporter": "python",
   "pygments_lexer": "ipython3",
   "version": "3.7.6"
  }
 },
 "nbformat": 4,
 "nbformat_minor": 2
}
