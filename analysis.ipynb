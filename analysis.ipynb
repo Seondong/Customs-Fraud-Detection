{
 "cells": [
  {
   "cell_type": "code",
   "execution_count": 9,
   "metadata": {},
   "outputs": [],
   "source": [
    "import pandas as pd\n",
    "import numpy as np\n",
    "import glob\n",
    "pd.set_option('display.max_columns', 50)"
   ]
  },
  {
   "cell_type": "code",
   "execution_count": 10,
   "metadata": {},
   "outputs": [],
   "source": [
    "fn = glob.glob('./results/performances/result-*.csv')\n",
    "dfs = {}"
   ]
  },
  {
   "cell_type": "code",
   "execution_count": 11,
   "metadata": {
    "scrolled": true
   },
   "outputs": [
    {
     "data": {
      "text/plain": [
       "['./results/performances/result-1600906966-random-5.csv',\n",
       " './results/performances/result-1600907085-random-5.csv',\n",
       " './results/performances/result-1600907321-random-5.csv',\n",
       " './results/performances/result-1600907375-xgb-5.csv',\n",
       " './results/performances/result-1600907428-xgb-5.csv',\n",
       " './results/performances/result-1600907522-hybrid-5.csv',\n",
       " './results/performances/result-1600907621-hybrid-5.csv',\n",
       " './results/performances/result-1600908233-hybrid-5.csv',\n",
       " './results/performances/result-1600908573-hybrid-5.csv',\n",
       " './results/performances/result-1600908691-hybrid-5.csv',\n",
       " './results/performances/result-1600909354-hybrid-5.csv',\n",
       " './results/performances/result-1600909533-hybrid-5.csv']"
      ]
     },
     "execution_count": 11,
     "metadata": {},
     "output_type": "execute_result"
    }
   ],
   "source": [
    "fn"
   ]
  },
  {
   "cell_type": "code",
   "execution_count": 12,
   "metadata": {},
   "outputs": [],
   "source": [
    "for name in fn:\n",
    "    dfs[name] = pd.read_csv(name, sep=',')"
   ]
  },
  {
   "cell_type": "code",
   "execution_count": 13,
   "metadata": {},
   "outputs": [
    {
     "ename": "IndexError",
     "evalue": "index 0 is out of bounds for axis 0 with size 0",
     "output_type": "error",
     "traceback": [
      "\u001b[0;31m---------------------------------------------------------------------------\u001b[0m",
      "\u001b[0;31mIndexError\u001b[0m                                Traceback (most recent call last)",
      "\u001b[0;32m<ipython-input-13-7028565e01dd>\u001b[0m in \u001b[0;36m<module>\u001b[0;34m\u001b[0m\n\u001b[1;32m      1\u001b[0m \u001b[0;32mfor\u001b[0m \u001b[0mname\u001b[0m \u001b[0;32min\u001b[0m \u001b[0mfn\u001b[0m\u001b[0;34m:\u001b[0m\u001b[0;34m\u001b[0m\u001b[0;34m\u001b[0m\u001b[0m\n\u001b[0;32m----> 2\u001b[0;31m     \u001b[0mprint\u001b[0m\u001b[0;34m(\u001b[0m\u001b[0mname\u001b[0m\u001b[0;34m,\u001b[0m \u001b[0mdfs\u001b[0m\u001b[0;34m[\u001b[0m\u001b[0mname\u001b[0m\u001b[0;34m]\u001b[0m\u001b[0;34m[\u001b[0m\u001b[0;34m'mode'\u001b[0m\u001b[0;34m]\u001b[0m\u001b[0;34m.\u001b[0m\u001b[0munique\u001b[0m\u001b[0;34m(\u001b[0m\u001b[0;34m)\u001b[0m\u001b[0;34m[\u001b[0m\u001b[0;36m0\u001b[0m\u001b[0;34m]\u001b[0m\u001b[0;34m,\u001b[0m \u001b[0mround\u001b[0m\u001b[0;34m(\u001b[0m\u001b[0mnp\u001b[0m\u001b[0;34m.\u001b[0m\u001b[0mmean\u001b[0m\u001b[0;34m(\u001b[0m\u001b[0mdfs\u001b[0m\u001b[0;34m[\u001b[0m\u001b[0mname\u001b[0m\u001b[0;34m]\u001b[0m\u001b[0;34m[\u001b[0m\u001b[0;34m'precision'\u001b[0m\u001b[0;34m]\u001b[0m\u001b[0;34m)\u001b[0m\u001b[0;34m,\u001b[0m \u001b[0;36m4\u001b[0m\u001b[0;34m)\u001b[0m\u001b[0;34m,\u001b[0m \u001b[0mround\u001b[0m\u001b[0;34m(\u001b[0m\u001b[0mnp\u001b[0m\u001b[0;34m.\u001b[0m\u001b[0mmean\u001b[0m\u001b[0;34m(\u001b[0m\u001b[0mdfs\u001b[0m\u001b[0;34m[\u001b[0m\u001b[0mname\u001b[0m\u001b[0;34m]\u001b[0m\u001b[0;34m[\u001b[0m\u001b[0;34m'recall'\u001b[0m\u001b[0;34m]\u001b[0m\u001b[0;34m)\u001b[0m\u001b[0;34m,\u001b[0m \u001b[0;36m4\u001b[0m\u001b[0;34m)\u001b[0m\u001b[0;34m,\u001b[0m \u001b[0mround\u001b[0m\u001b[0;34m(\u001b[0m\u001b[0mnp\u001b[0m\u001b[0;34m.\u001b[0m\u001b[0mmean\u001b[0m\u001b[0;34m(\u001b[0m\u001b[0mdfs\u001b[0m\u001b[0;34m[\u001b[0m\u001b[0mname\u001b[0m\u001b[0;34m]\u001b[0m\u001b[0;34m[\u001b[0m\u001b[0;34m'revenue'\u001b[0m\u001b[0;34m]\u001b[0m\u001b[0;34m)\u001b[0m\u001b[0;34m,\u001b[0m \u001b[0;36m4\u001b[0m\u001b[0;34m)\u001b[0m\u001b[0;34m)\u001b[0m\u001b[0;34m\u001b[0m\u001b[0;34m\u001b[0m\u001b[0m\n\u001b[0m",
      "\u001b[0;31mIndexError\u001b[0m: index 0 is out of bounds for axis 0 with size 0"
     ]
    }
   ],
   "source": [
    "for name in fn:\n",
    "    print(name, dfs[name]['mode'].unique()[0], round(np.mean(dfs[name]['precision']), 4), round(np.mean(dfs[name]['recall']), 4), round(np.mean(dfs[name]['revenue']), 4))"
   ]
  },
  {
   "cell_type": "code",
   "execution_count": 14,
   "metadata": {},
   "outputs": [],
   "source": [
    "df = pd.read_csv(fn[-1], sep=',')"
   ]
  },
  {
   "cell_type": "code",
   "execution_count": 15,
   "metadata": {},
   "outputs": [
    {
     "data": {
      "text/plain": [
       "Index(['runID', 'num_train', 'num_valid', 'num_test', 'num_select',\n",
       "       'num_total_newly_labeled', 'num_test_illicit', 'test_illicit_rate',\n",
       "       'upper_bound_recall', 'upper_bound_rev', 'sampling',\n",
       "       'initial_inspection_rate', 'final_inspection_rate', 'mode',\n",
       "       'subsamplings', 'weights', 'unc_mode', 'train_start', 'valid_start',\n",
       "       'test_start', 'test_end', 'numWeek', 'precision', 'recall', 'revenue',\n",
       "       'norm-precision', 'norm-recall', 'norm-revenue'],\n",
       "      dtype='object')"
      ]
     },
     "execution_count": 15,
     "metadata": {},
     "output_type": "execute_result"
    }
   ],
   "source": [
    "df.columns"
   ]
  },
  {
   "cell_type": "code",
   "execution_count": 16,
   "metadata": {},
   "outputs": [
    {
     "data": {
      "text/html": [
       "<div>\n",
       "<style scoped>\n",
       "    .dataframe tbody tr th:only-of-type {\n",
       "        vertical-align: middle;\n",
       "    }\n",
       "\n",
       "    .dataframe tbody tr th {\n",
       "        vertical-align: top;\n",
       "    }\n",
       "\n",
       "    .dataframe thead th {\n",
       "        text-align: right;\n",
       "    }\n",
       "</style>\n",
       "<table border=\"1\" class=\"dataframe\">\n",
       "  <thead>\n",
       "    <tr style=\"text-align: right;\">\n",
       "      <th></th>\n",
       "      <th>runID</th>\n",
       "      <th>num_train</th>\n",
       "      <th>num_valid</th>\n",
       "      <th>num_test</th>\n",
       "      <th>num_select</th>\n",
       "      <th>num_total_newly_labeled</th>\n",
       "      <th>num_test_illicit</th>\n",
       "      <th>test_illicit_rate</th>\n",
       "      <th>upper_bound_recall</th>\n",
       "      <th>upper_bound_rev</th>\n",
       "      <th>sampling</th>\n",
       "      <th>initial_inspection_rate</th>\n",
       "      <th>final_inspection_rate</th>\n",
       "      <th>mode</th>\n",
       "      <th>subsamplings</th>\n",
       "      <th>weights</th>\n",
       "      <th>unc_mode</th>\n",
       "      <th>train_start</th>\n",
       "      <th>valid_start</th>\n",
       "      <th>test_start</th>\n",
       "      <th>test_end</th>\n",
       "      <th>numWeek</th>\n",
       "      <th>precision</th>\n",
       "      <th>recall</th>\n",
       "      <th>revenue</th>\n",
       "      <th>norm-precision</th>\n",
       "      <th>norm-recall</th>\n",
       "      <th>norm-revenue</th>\n",
       "    </tr>\n",
       "  </thead>\n",
       "  <tbody>\n",
       "    <tr>\n",
       "      <th>0</th>\n",
       "      <td>1600909533</td>\n",
       "      <td>8830</td>\n",
       "      <td>7919</td>\n",
       "      <td>7037</td>\n",
       "      <td>351</td>\n",
       "      <td>351</td>\n",
       "      <td>280</td>\n",
       "      <td>0.039790</td>\n",
       "      <td>1</td>\n",
       "      <td>1.0</td>\n",
       "      <td>hybrid</td>\n",
       "      <td>50</td>\n",
       "      <td>5</td>\n",
       "      <td>scratch</td>\n",
       "      <td>badge_DATE/DATE</td>\n",
       "      <td>0.1/0.9</td>\n",
       "      <td>naive</td>\n",
       "      <td>13-01-01</td>\n",
       "      <td>13-01-17</td>\n",
       "      <td>13-02-01</td>\n",
       "      <td>13-02-08</td>\n",
       "      <td>1</td>\n",
       "      <td>0.1880</td>\n",
       "      <td>0.2357</td>\n",
       "      <td>0.2776</td>\n",
       "      <td>0.2363</td>\n",
       "      <td>0.2357</td>\n",
       "      <td>0.2776</td>\n",
       "    </tr>\n",
       "    <tr>\n",
       "      <th>1</th>\n",
       "      <td>1600909533</td>\n",
       "      <td>24890</td>\n",
       "      <td>9294</td>\n",
       "      <td>9133</td>\n",
       "      <td>456</td>\n",
       "      <td>807</td>\n",
       "      <td>357</td>\n",
       "      <td>0.039089</td>\n",
       "      <td>1</td>\n",
       "      <td>1.0</td>\n",
       "      <td>hybrid</td>\n",
       "      <td>50</td>\n",
       "      <td>5</td>\n",
       "      <td>scratch</td>\n",
       "      <td>badge_DATE/DATE</td>\n",
       "      <td>0.1/0.9</td>\n",
       "      <td>naive</td>\n",
       "      <td>13-01-01</td>\n",
       "      <td>13-01-24</td>\n",
       "      <td>13-02-08</td>\n",
       "      <td>13-02-15</td>\n",
       "      <td>2</td>\n",
       "      <td>0.1864</td>\n",
       "      <td>0.2381</td>\n",
       "      <td>0.4489</td>\n",
       "      <td>0.2384</td>\n",
       "      <td>0.2381</td>\n",
       "      <td>0.4489</td>\n",
       "    </tr>\n",
       "  </tbody>\n",
       "</table>\n",
       "</div>"
      ],
      "text/plain": [
       "        runID  num_train  num_valid  num_test  num_select  \\\n",
       "0  1600909533       8830       7919      7037         351   \n",
       "1  1600909533      24890       9294      9133         456   \n",
       "\n",
       "   num_total_newly_labeled  num_test_illicit  test_illicit_rate  \\\n",
       "0                      351               280           0.039790   \n",
       "1                      807               357           0.039089   \n",
       "\n",
       "   upper_bound_recall  upper_bound_rev sampling  initial_inspection_rate  \\\n",
       "0                   1              1.0   hybrid                       50   \n",
       "1                   1              1.0   hybrid                       50   \n",
       "\n",
       "   final_inspection_rate     mode     subsamplings  weights unc_mode  \\\n",
       "0                      5  scratch  badge_DATE/DATE  0.1/0.9    naive   \n",
       "1                      5  scratch  badge_DATE/DATE  0.1/0.9    naive   \n",
       "\n",
       "  train_start valid_start test_start  test_end  numWeek  precision  recall  \\\n",
       "0    13-01-01    13-01-17   13-02-01  13-02-08        1     0.1880  0.2357   \n",
       "1    13-01-01    13-01-24   13-02-08  13-02-15        2     0.1864  0.2381   \n",
       "\n",
       "   revenue  norm-precision  norm-recall  norm-revenue  \n",
       "0   0.2776          0.2363       0.2357        0.2776  \n",
       "1   0.4489          0.2384       0.2381        0.4489  "
      ]
     },
     "execution_count": 16,
     "metadata": {},
     "output_type": "execute_result"
    }
   ],
   "source": [
    "df"
   ]
  },
  {
   "cell_type": "code",
   "execution_count": 17,
   "metadata": {},
   "outputs": [
    {
     "data": {
      "text/plain": [
       "(0.1872, 0.2369, 0.36325)"
      ]
     },
     "execution_count": 17,
     "metadata": {},
     "output_type": "execute_result"
    }
   ],
   "source": [
    "np.mean(df['precision']), np.mean(df['recall']), np.mean(df['revenue'])"
   ]
  }
 ],
 "metadata": {
  "kernelspec": {
   "display_name": "Python 3",
   "language": "python",
   "name": "python3"
  },
  "language_info": {
   "codemirror_mode": {
    "name": "ipython",
    "version": 3
   },
   "file_extension": ".py",
   "mimetype": "text/x-python",
   "name": "python",
   "nbconvert_exporter": "python",
   "pygments_lexer": "ipython3",
   "version": "3.7.6"
  }
 },
 "nbformat": 4,
 "nbformat_minor": 2
}
