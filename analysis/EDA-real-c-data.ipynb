{
 "cells": [
  {
   "cell_type": "code",
   "execution_count": 1,
   "metadata": {},
   "outputs": [],
   "source": [
    "import numpy as np\n",
    "import pandas as pd\n",
    "import glob \n",
    "import csv\n",
    "import traceback\n",
    "import datetime\n",
    "import os\n",
    "pd.options.display.max_columns=50"
   ]
  },
  {
   "cell_type": "code",
   "execution_count": 2,
   "metadata": {},
   "outputs": [],
   "source": [
    "def firstCheck(df):\n",
    "    \"\"\" Sorting and indexing necessary for data preparation \"\"\"\n",
    "    df = df.dropna(subset=[\"illicit\"])\n",
    "    df = df.sort_values(\"sgd.date\")\n",
    "    df = df.reset_index(drop=True)\n",
    "    return df\n",
    "\n",
    "dfs = firstCheck(pd.read_csv('../data/cdata.csv'))"
   ]
  },
  {
   "cell_type": "code",
   "execution_count": 3,
   "metadata": {},
   "outputs": [
    {
     "name": "stdout",
     "output_type": "stream",
     "text": [
      "8699 5491 241\n"
     ]
    }
   ],
   "source": [
    "for df in [dfs]:\n",
    "    print(df['importer.id'].nunique(), df['tariff.code'].nunique(), df['country'].nunique())"
   ]
  },
  {
   "cell_type": "code",
   "execution_count": 43,
   "metadata": {},
   "outputs": [
    {
     "data": {
      "text/plain": [
       "(17807, 15)"
      ]
     },
     "execution_count": 43,
     "metadata": {},
     "output_type": "execute_result"
    }
   ],
   "source": [
    "dfs[dfs['sgd.date'] < '16-02-01'].shape"
   ]
  },
  {
   "cell_type": "code",
   "execution_count": 44,
   "metadata": {},
   "outputs": [
    {
     "data": {
      "text/html": [
       "<div>\n",
       "<style scoped>\n",
       "    .dataframe tbody tr th:only-of-type {\n",
       "        vertical-align: middle;\n",
       "    }\n",
       "\n",
       "    .dataframe tbody tr th {\n",
       "        vertical-align: top;\n",
       "    }\n",
       "\n",
       "    .dataframe thead th {\n",
       "        text-align: right;\n",
       "    }\n",
       "</style>\n",
       "<table border=\"1\" class=\"dataframe\">\n",
       "  <thead>\n",
       "    <tr style=\"text-align: right;\">\n",
       "      <th></th>\n",
       "      <th>sgd.id</th>\n",
       "      <th>sgd.date</th>\n",
       "      <th>importer.id</th>\n",
       "      <th>declarant.id</th>\n",
       "      <th>country</th>\n",
       "      <th>office.id</th>\n",
       "      <th>tariff.code</th>\n",
       "      <th>quantity</th>\n",
       "      <th>gross.weight</th>\n",
       "      <th>fob.value</th>\n",
       "      <th>cif.value</th>\n",
       "      <th>total.taxes</th>\n",
       "      <th>illicit</th>\n",
       "      <th>revenue</th>\n",
       "      <th>HS2</th>\n",
       "    </tr>\n",
       "  </thead>\n",
       "  <tbody>\n",
       "    <tr>\n",
       "      <th>0</th>\n",
       "      <td>f30dbbec00f1289abfa83760d54c58d9</td>\n",
       "      <td>16-01-02</td>\n",
       "      <td>unknown_importer</td>\n",
       "      <td>76ee9b989dc2f0d44c1a4c1a82cae6526f4dc0c8</td>\n",
       "      <td>AE</td>\n",
       "      <td>CMDLA</td>\n",
       "      <td>640590000000</td>\n",
       "      <td>1.0</td>\n",
       "      <td>100.0</td>\n",
       "      <td>81278</td>\n",
       "      <td>81278</td>\n",
       "      <td>46936</td>\n",
       "      <td>0</td>\n",
       "      <td>0.0</td>\n",
       "      <td>6405</td>\n",
       "    </tr>\n",
       "    <tr>\n",
       "      <th>1</th>\n",
       "      <td>ef407de60667918392506e0063487524</td>\n",
       "      <td>16-01-02</td>\n",
       "      <td>unknown_importer</td>\n",
       "      <td>76ee9b989dc2f0d44c1a4c1a82cae6526f4dc0c8</td>\n",
       "      <td>AE</td>\n",
       "      <td>CMDLA</td>\n",
       "      <td>851770000000</td>\n",
       "      <td>1.0</td>\n",
       "      <td>150.0</td>\n",
       "      <td>212376</td>\n",
       "      <td>212376</td>\n",
       "      <td>72737</td>\n",
       "      <td>0</td>\n",
       "      <td>0.0</td>\n",
       "      <td>8517</td>\n",
       "    </tr>\n",
       "    <tr>\n",
       "      <th>2</th>\n",
       "      <td>90b91593e371a944c91fc52793273bd5</td>\n",
       "      <td>16-01-02</td>\n",
       "      <td>unknown_importer</td>\n",
       "      <td>76ee9b989dc2f0d44c1a4c1a82cae6526f4dc0c8</td>\n",
       "      <td>AE</td>\n",
       "      <td>CMDLA</td>\n",
       "      <td>851770000000</td>\n",
       "      <td>1.0</td>\n",
       "      <td>150.0</td>\n",
       "      <td>212376</td>\n",
       "      <td>212376</td>\n",
       "      <td>72737</td>\n",
       "      <td>0</td>\n",
       "      <td>0.0</td>\n",
       "      <td>8517</td>\n",
       "    </tr>\n",
       "    <tr>\n",
       "      <th>3</th>\n",
       "      <td>0f1eed4b2d12b4d52fade2ec0b7b010d</td>\n",
       "      <td>16-01-02</td>\n",
       "      <td>unknown_importer</td>\n",
       "      <td>76ee9b989dc2f0d44c1a4c1a82cae6526f4dc0c8</td>\n",
       "      <td>AE</td>\n",
       "      <td>CMDLA</td>\n",
       "      <td>851770000000</td>\n",
       "      <td>1.0</td>\n",
       "      <td>180.0</td>\n",
       "      <td>265470</td>\n",
       "      <td>265470</td>\n",
       "      <td>90922</td>\n",
       "      <td>0</td>\n",
       "      <td>0.0</td>\n",
       "      <td>8517</td>\n",
       "    </tr>\n",
       "    <tr>\n",
       "      <th>4</th>\n",
       "      <td>8502e57cc4e42a91662bdbe408a84ed1</td>\n",
       "      <td>16-01-03</td>\n",
       "      <td>unknown_importer</td>\n",
       "      <td>c02f0861a585a64921dc7ef3f9ea61ea64dbeb74</td>\n",
       "      <td>CN</td>\n",
       "      <td>CMDP3</td>\n",
       "      <td>940360000000</td>\n",
       "      <td>1449.0</td>\n",
       "      <td>30000.0</td>\n",
       "      <td>16374000</td>\n",
       "      <td>16374000</td>\n",
       "      <td>10274685</td>\n",
       "      <td>0</td>\n",
       "      <td>0.0</td>\n",
       "      <td>9403</td>\n",
       "    </tr>\n",
       "    <tr>\n",
       "      <th>...</th>\n",
       "      <td>...</td>\n",
       "      <td>...</td>\n",
       "      <td>...</td>\n",
       "      <td>...</td>\n",
       "      <td>...</td>\n",
       "      <td>...</td>\n",
       "      <td>...</td>\n",
       "      <td>...</td>\n",
       "      <td>...</td>\n",
       "      <td>...</td>\n",
       "      <td>...</td>\n",
       "      <td>...</td>\n",
       "      <td>...</td>\n",
       "      <td>...</td>\n",
       "      <td>...</td>\n",
       "    </tr>\n",
       "    <tr>\n",
       "      <th>1896864</th>\n",
       "      <td>c4948a0da931995dfad6983e776b7e07</td>\n",
       "      <td>19-12-31</td>\n",
       "      <td>02579cekmqrsty</td>\n",
       "      <td>26c9655de56926f7068ff4bba28506a776928e28</td>\n",
       "      <td>FR</td>\n",
       "      <td>CMDCP</td>\n",
       "      <td>382200000000</td>\n",
       "      <td>0.2</td>\n",
       "      <td>0.2</td>\n",
       "      <td>227794</td>\n",
       "      <td>230915</td>\n",
       "      <td>23552</td>\n",
       "      <td>0</td>\n",
       "      <td>0.0</td>\n",
       "      <td>3822</td>\n",
       "    </tr>\n",
       "    <tr>\n",
       "      <th>1896865</th>\n",
       "      <td>1b71f36dad1185298cd4fdf03d75ac2b</td>\n",
       "      <td>19-12-31</td>\n",
       "      <td>unknown_importer</td>\n",
       "      <td>0514ab1836089bf8a100d7009abb5c5a02ed9388</td>\n",
       "      <td>ES</td>\n",
       "      <td>CMDP3</td>\n",
       "      <td>901831000000</td>\n",
       "      <td>2104.0</td>\n",
       "      <td>3104.0</td>\n",
       "      <td>11670246</td>\n",
       "      <td>11670246</td>\n",
       "      <td>1773876</td>\n",
       "      <td>0</td>\n",
       "      <td>0.0</td>\n",
       "      <td>9018</td>\n",
       "    </tr>\n",
       "    <tr>\n",
       "      <th>1896866</th>\n",
       "      <td>b39264d23612c9f44e524b0f5191417b</td>\n",
       "      <td>19-12-31</td>\n",
       "      <td>015678ceklprsty</td>\n",
       "      <td>4425e22415270cb715ea2a608570878b6e1c6c23</td>\n",
       "      <td>JP</td>\n",
       "      <td>CMDP5</td>\n",
       "      <td>940429000000</td>\n",
       "      <td>1.0</td>\n",
       "      <td>37.0</td>\n",
       "      <td>15000</td>\n",
       "      <td>15000</td>\n",
       "      <td>9442</td>\n",
       "      <td>0</td>\n",
       "      <td>0.0</td>\n",
       "      <td>9404</td>\n",
       "    </tr>\n",
       "    <tr>\n",
       "      <th>1896867</th>\n",
       "      <td>a14f8d77e9933faf690de3cf55f63686</td>\n",
       "      <td>19-12-31</td>\n",
       "      <td>01268cekmrsty</td>\n",
       "      <td>44bb62d37ced699834600acb8b506920fa3f09ff</td>\n",
       "      <td>IT</td>\n",
       "      <td>CMDLA</td>\n",
       "      <td>700992000000</td>\n",
       "      <td>1.0</td>\n",
       "      <td>50.0</td>\n",
       "      <td>269205</td>\n",
       "      <td>411109</td>\n",
       "      <td>258791</td>\n",
       "      <td>0</td>\n",
       "      <td>0.0</td>\n",
       "      <td>7009</td>\n",
       "    </tr>\n",
       "    <tr>\n",
       "      <th>1896868</th>\n",
       "      <td>5f8da0a3ce1d5bb4a779f3a4d36dc2dd</td>\n",
       "      <td>19-12-31</td>\n",
       "      <td>0123468cekmrstxy</td>\n",
       "      <td>91e446c9858d6900ba42f284d1d5f553f1a29fa7</td>\n",
       "      <td>FR</td>\n",
       "      <td>CMDLA</td>\n",
       "      <td>848079000000</td>\n",
       "      <td>22.0</td>\n",
       "      <td>2.0</td>\n",
       "      <td>10919054</td>\n",
       "      <td>10919054</td>\n",
       "      <td>3215660</td>\n",
       "      <td>0</td>\n",
       "      <td>0.0</td>\n",
       "      <td>8480</td>\n",
       "    </tr>\n",
       "  </tbody>\n",
       "</table>\n",
       "<p>1896869 rows × 15 columns</p>\n",
       "</div>"
      ],
      "text/plain": [
       "                                   sgd.id  sgd.date       importer.id  \\\n",
       "0        f30dbbec00f1289abfa83760d54c58d9  16-01-02  unknown_importer   \n",
       "1        ef407de60667918392506e0063487524  16-01-02  unknown_importer   \n",
       "2        90b91593e371a944c91fc52793273bd5  16-01-02  unknown_importer   \n",
       "3        0f1eed4b2d12b4d52fade2ec0b7b010d  16-01-02  unknown_importer   \n",
       "4        8502e57cc4e42a91662bdbe408a84ed1  16-01-03  unknown_importer   \n",
       "...                                   ...       ...               ...   \n",
       "1896864  c4948a0da931995dfad6983e776b7e07  19-12-31    02579cekmqrsty   \n",
       "1896865  1b71f36dad1185298cd4fdf03d75ac2b  19-12-31  unknown_importer   \n",
       "1896866  b39264d23612c9f44e524b0f5191417b  19-12-31   015678ceklprsty   \n",
       "1896867  a14f8d77e9933faf690de3cf55f63686  19-12-31     01268cekmrsty   \n",
       "1896868  5f8da0a3ce1d5bb4a779f3a4d36dc2dd  19-12-31  0123468cekmrstxy   \n",
       "\n",
       "                                     declarant.id country office.id  \\\n",
       "0        76ee9b989dc2f0d44c1a4c1a82cae6526f4dc0c8      AE     CMDLA   \n",
       "1        76ee9b989dc2f0d44c1a4c1a82cae6526f4dc0c8      AE     CMDLA   \n",
       "2        76ee9b989dc2f0d44c1a4c1a82cae6526f4dc0c8      AE     CMDLA   \n",
       "3        76ee9b989dc2f0d44c1a4c1a82cae6526f4dc0c8      AE     CMDLA   \n",
       "4        c02f0861a585a64921dc7ef3f9ea61ea64dbeb74      CN     CMDP3   \n",
       "...                                           ...     ...       ...   \n",
       "1896864  26c9655de56926f7068ff4bba28506a776928e28      FR     CMDCP   \n",
       "1896865  0514ab1836089bf8a100d7009abb5c5a02ed9388      ES     CMDP3   \n",
       "1896866  4425e22415270cb715ea2a608570878b6e1c6c23      JP     CMDP5   \n",
       "1896867  44bb62d37ced699834600acb8b506920fa3f09ff      IT     CMDLA   \n",
       "1896868  91e446c9858d6900ba42f284d1d5f553f1a29fa7      FR     CMDLA   \n",
       "\n",
       "          tariff.code  quantity  gross.weight  fob.value  cif.value  \\\n",
       "0        640590000000       1.0         100.0      81278      81278   \n",
       "1        851770000000       1.0         150.0     212376     212376   \n",
       "2        851770000000       1.0         150.0     212376     212376   \n",
       "3        851770000000       1.0         180.0     265470     265470   \n",
       "4        940360000000    1449.0       30000.0   16374000   16374000   \n",
       "...               ...       ...           ...        ...        ...   \n",
       "1896864  382200000000       0.2           0.2     227794     230915   \n",
       "1896865  901831000000    2104.0        3104.0   11670246   11670246   \n",
       "1896866  940429000000       1.0          37.0      15000      15000   \n",
       "1896867  700992000000       1.0          50.0     269205     411109   \n",
       "1896868  848079000000      22.0           2.0   10919054   10919054   \n",
       "\n",
       "         total.taxes  illicit  revenue   HS2  \n",
       "0              46936        0      0.0  6405  \n",
       "1              72737        0      0.0  8517  \n",
       "2              72737        0      0.0  8517  \n",
       "3              90922        0      0.0  8517  \n",
       "4           10274685        0      0.0  9403  \n",
       "...              ...      ...      ...   ...  \n",
       "1896864        23552        0      0.0  3822  \n",
       "1896865      1773876        0      0.0  9018  \n",
       "1896866         9442        0      0.0  9404  \n",
       "1896867       258791        0      0.0  7009  \n",
       "1896868      3215660        0      0.0  8480  \n",
       "\n",
       "[1896869 rows x 15 columns]"
      ]
     },
     "execution_count": 44,
     "metadata": {},
     "output_type": "execute_result"
    }
   ],
   "source": [
    "dfs"
   ]
  },
  {
   "cell_type": "code",
   "execution_count": 5,
   "metadata": {},
   "outputs": [
    {
     "data": {
      "text/plain": [
       "Series([], Name: tariff.code, dtype: int64)"
      ]
     },
     "execution_count": 5,
     "metadata": {},
     "output_type": "execute_result"
    }
   ],
   "source": [
    "dfs[dfs['importer.id'] == 'IMP826164']['tariff.code'].value_counts()"
   ]
  },
  {
   "cell_type": "code",
   "execution_count": 6,
   "metadata": {},
   "outputs": [
    {
     "data": {
      "text/plain": [
       "unknown_importer    275393\n",
       "0378cekmprsty        67509\n",
       "0134679cegkmrsty     44914\n",
       "035789cekmnrsty      41236\n",
       "04789cekmqrsty       35057\n",
       "                     ...  \n",
       "014568cehkprsty          1\n",
       "0235789ceknprsty         1\n",
       "0146bcekmrsty            1\n",
       "123489cegkprsty          1\n",
       "0267ceklprsty            1\n",
       "Name: importer.id, Length: 8699, dtype: int64"
      ]
     },
     "execution_count": 6,
     "metadata": {},
     "output_type": "execute_result"
    }
   ],
   "source": [
    "dfs['importer.id'].value_counts()"
   ]
  },
  {
   "cell_type": "code",
   "execution_count": 7,
   "metadata": {},
   "outputs": [
    {
     "name": "stdout",
     "output_type": "stream",
     "text": [
      "16-01-02\n",
      "16-01-06\n",
      "16-01-11\n",
      "16-01-12\n",
      "16-01-11\n",
      "16-01-07\n",
      "16-01-18\n",
      "16-01-06\n",
      "16-01-08\n",
      "16-01-06\n",
      "16-01-05\n",
      "16-01-07\n",
      "16-01-08\n",
      "16-01-07\n",
      "16-01-08\n",
      "16-01-05\n",
      "16-09-28\n",
      "16-01-11\n",
      "16-01-07\n",
      "16-01-05\n",
      "16-01-19\n",
      "16-01-08\n",
      "16-01-11\n",
      "16-01-05\n",
      "16-01-12\n",
      "16-01-06\n",
      "16-01-08\n",
      "16-01-12\n",
      "16-01-08\n",
      "16-01-06\n",
      "16-01-05\n",
      "16-01-04\n",
      "16-01-13\n",
      "16-01-21\n",
      "16-01-05\n",
      "16-01-05\n",
      "16-01-06\n",
      "16-01-04\n",
      "16-01-20\n",
      "16-01-06\n",
      "16-05-04\n",
      "16-01-14\n",
      "16-01-14\n",
      "16-03-31\n",
      "16-01-14\n",
      "16-01-06\n",
      "16-01-07\n",
      "16-01-06\n",
      "16-01-13\n",
      "16-01-07\n",
      "16-01-12\n",
      "16-01-05\n",
      "16-01-04\n",
      "16-01-13\n",
      "16-01-05\n",
      "16-01-06\n",
      "16-01-06\n",
      "16-01-08\n",
      "16-01-14\n",
      "16-01-05\n",
      "16-01-06\n",
      "16-01-14\n",
      "16-01-04\n",
      "16-01-08\n",
      "16-01-04\n",
      "16-01-05\n",
      "16-01-04\n",
      "16-01-14\n",
      "16-01-11\n",
      "16-02-22\n",
      "16-01-05\n",
      "16-01-05\n",
      "16-01-08\n",
      "16-01-14\n",
      "16-01-06\n",
      "16-01-12\n",
      "16-01-04\n",
      "16-03-03\n",
      "16-01-08\n",
      "16-01-06\n",
      "16-01-04\n",
      "16-01-07\n",
      "16-01-05\n",
      "16-01-15\n",
      "16-01-04\n",
      "16-01-04\n",
      "16-06-13\n",
      "16-01-08\n",
      "16-01-07\n",
      "16-01-20\n",
      "17-04-17\n",
      "16-01-08\n",
      "16-01-07\n",
      "16-01-05\n",
      "16-01-26\n",
      "16-01-13\n",
      "16-01-08\n",
      "16-01-19\n",
      "16-01-07\n",
      "16-01-08\n"
     ]
    }
   ],
   "source": [
    "for impid in dfs['importer.id'].value_counts().head(100).keys():\n",
    "    firstday = min(df[df['importer.id'] == impid]['sgd.date'])\n",
    "    print(firstday)"
   ]
  },
  {
   "cell_type": "code",
   "execution_count": 8,
   "metadata": {},
   "outputs": [
    {
     "data": {
      "text/plain": [
       "CN    316591\n",
       "FR    292152\n",
       "JP    158402\n",
       "US    141647\n",
       "DE    125786\n",
       "       ...  \n",
       "SJ         2\n",
       "PF         1\n",
       "EU         1\n",
       "BQ         1\n",
       "WS         1\n",
       "Name: country, Length: 241, dtype: int64"
      ]
     },
     "execution_count": 8,
     "metadata": {},
     "output_type": "execute_result"
    }
   ],
   "source": [
    "dfs['country'].value_counts()"
   ]
  },
  {
   "cell_type": "code",
   "execution_count": 9,
   "metadata": {},
   "outputs": [
    {
     "data": {
      "text/plain": [
       "8703    125693\n",
       "8708     54813\n",
       "9404     45765\n",
       "2710     39710\n",
       "7318     39361\n",
       "         ...  \n",
       "205          1\n",
       "8111         1\n",
       "2613         1\n",
       "2610         1\n",
       "2913         1\n",
       "Name: tariff.code, Length: 1196, dtype: int64"
      ]
     },
     "execution_count": 9,
     "metadata": {},
     "output_type": "execute_result"
    }
   ],
   "source": [
    "dfs['tariff.code'].apply(lambda x: x//100000000).value_counts()"
   ]
  },
  {
   "cell_type": "code",
   "execution_count": 10,
   "metadata": {},
   "outputs": [],
   "source": [
    "dfs['HS2'] = dfs['tariff.code'].apply(lambda x: x//100000000)"
   ]
  },
  {
   "cell_type": "code",
   "execution_count": 11,
   "metadata": {},
   "outputs": [
    {
     "data": {
      "text/plain": [
       "HS2\n",
       "101     0.133333\n",
       "102     0.007576\n",
       "103     0.000000\n",
       "104     0.000000\n",
       "105     0.032787\n",
       "          ...   \n",
       "9703    0.030303\n",
       "9704    0.000000\n",
       "9705    0.000000\n",
       "9706    0.000000\n",
       "9801    0.005550\n",
       "Name: illicit, Length: 1196, dtype: float64"
      ]
     },
     "execution_count": 11,
     "metadata": {},
     "output_type": "execute_result"
    }
   ],
   "source": [
    "dfs.groupby(['HS2'])['illicit'].apply(np.mean)"
   ]
  },
  {
   "cell_type": "markdown",
   "metadata": {},
   "source": [
    "#### Average illicit rates"
   ]
  },
  {
   "cell_type": "code",
   "execution_count": 15,
   "metadata": {},
   "outputs": [],
   "source": [
    "# Synthetic\n",
    "\n",
    "date_begin = '20160101'\n",
    "test_length = 7\n",
    "\n",
    "start_day = datetime.date(int(date_begin[:4]), int(date_begin[4:6]), int(date_begin[6:8]))\n",
    "period = datetime.timedelta(days=test_length)    \n",
    "end_day = start_day + datetime.timedelta(days=test_length)    \n",
    "\n",
    "old_IID = set()\n",
    "new_proportions = []\n",
    "\n",
    "avg_illicit_rates_s = []\n",
    "num_trades_s = []\n",
    "num_HS2_type_s = []\n",
    "avg_prices = []\n",
    "\n",
    "for week in range(52):\n",
    "    weekly_trade = dfs[(dfs['sgd.date'] < end_day.strftime('%y-%m-%d')) & (dfs['sgd.date'] >= start_day.strftime('%y-%m-%d'))]\n",
    "    start_day = end_day\n",
    "    end_day = start_day + datetime.timedelta(days=test_length)\n",
    "    avg_illicit_rates_s.append(np.mean(weekly_trade['illicit']))\n",
    "    num_trades_s.append(len(weekly_trade))\n",
    "    num_HS2_type_s.append(weekly_trade['HS2'].nunique())\n",
    "    avg_prices.append(np.mean(weekly_trade['fob.value']))"
   ]
  },
  {
   "cell_type": "code",
   "execution_count": 16,
   "metadata": {},
   "outputs": [
    {
     "name": "stderr",
     "output_type": "stream",
     "text": [
      "UsageError: Line magic function `%` not found.\n"
     ]
    }
   ],
   "source": [
    "import matplotlib.pyplot as plt\n",
    "% matplotlib inline"
   ]
  },
  {
   "cell_type": "code",
   "execution_count": 17,
   "metadata": {},
   "outputs": [],
   "source": [
    "avg_illicit_rates_s = np.nan_to_num(np.array(avg_illicit_rates_s), nan=np.mean(dfs['illicit']))"
   ]
  },
  {
   "cell_type": "code",
   "execution_count": 18,
   "metadata": {
    "scrolled": true
   },
   "outputs": [
    {
     "data": {
      "image/png": "[encoded data removed]",
      "text/plain": [
       "<Figure size 432x288 with 1 Axes>"
      ]
     },
     "metadata": {},
     "output_type": "display_data"
    }
   ],
   "source": [
    "plt.style.use('seaborn-whitegrid')\n",
    "f = plt.figure()\n",
    "plt.plot(pd.Series(avg_illicit_rates_s).rolling(1).mean(), color='red')\n",
    "plt.title('Illicit rate', fontsize=25)\n",
    "plt.xlabel('Year', fontsize=25)\n",
    "# plt.ylabel('Illicit rate', fontsize=25)\n",
    "plt.xticks(ticks=[0,13,26,39,52], labels=['2013','','','','14'], fontsize=25)\n",
    "plt.yticks(fontsize=25)\n",
    "f.savefig(\"illicit_rate_c.pdf\", bbox_inches='tight')"
   ]
  },
  {
   "cell_type": "code",
   "execution_count": 19,
   "metadata": {},
   "outputs": [
    {
     "data": {
      "image/png": "[encoded data removed]",
      "text/plain": [
       "<Figure size 432x288 with 1 Axes>"
      ]
     },
     "metadata": {},
     "output_type": "display_data"
    }
   ],
   "source": [
    "plt.style.use('seaborn-whitegrid')\n",
    "f = plt.figure()\n",
    "plt.plot(pd.Series(num_trades_s).rolling(1).mean(), color='blue')\n",
    "plt.title('# of weekly trades', fontsize=25)\n",
    "plt.xlabel('Year', fontsize=25)\n",
    "# plt.ylabel('# of daily trade', fontsize=25)\n",
    "plt.xticks(ticks=[0,13,26,39,52], labels=['2013', '','','',14], fontsize=25)\n",
    "plt.yticks(ticks=[1000,1500,2000,2500,3000], labels=[1000,1500,2000,2500,3000], fontsize=25)\n",
    "f.savefig(\"num_weekly_trades_c.pdf\", bbox_inches='tight')"
   ]
  },
  {
   "cell_type": "code",
   "execution_count": 20,
   "metadata": {},
   "outputs": [
    {
     "data": {
      "image/png": "[encoded data removed]",
      "text/plain": [
       "<Figure size 432x288 with 1 Axes>"
      ]
     },
     "metadata": {},
     "output_type": "display_data"
    }
   ],
   "source": [
    "plt.style.use('seaborn-whitegrid')\n",
    "f = plt.figure()\n",
    "plt.plot(pd.Series(num_HS2_type_s).rolling(1).mean(), color='green')\n",
    "plt.title('# of unique HS2 codes', fontsize=25)\n",
    "plt.xlabel('Year', fontsize=25)\n",
    "# plt.ylabel('# of unique HS2', fontsize=25)\n",
    "plt.xticks(ticks=[0,13,26,39,52], labels=['2013', '','','',14], fontsize=25)\n",
    "plt.yticks(ticks=[55,60,65,70,75], labels=[55,60,65,70,75], fontsize=25)\n",
    "f.savefig(\"num_HS2_c.pdf\", bbox_inches='tight')"
   ]
  },
  {
   "cell_type": "code",
   "execution_count": 21,
   "metadata": {},
   "outputs": [
    {
     "data": {
      "image/png": "[encoded data removed]",
      "text/plain": [
       "<Figure size 432x288 with 1 Axes>"
      ]
     },
     "metadata": {},
     "output_type": "display_data"
    }
   ],
   "source": [
    "plt.style.use('seaborn-whitegrid')\n",
    "f = plt.figure()\n",
    "plt.plot(pd.Series(avg_prices).rolling(1).mean(), color='gray')\n",
    "plt.title('Item price (fob.value)', fontsize=25)\n",
    "plt.xlabel('Year', fontsize=25)\n",
    "# plt.ylabel('Average fob.value', fontsize=25)\n",
    "plt.xticks(ticks=[0,13,26,39,52], labels=['2013', '','','',14], fontsize=25)\n",
    "plt.yticks(ticks=[70000,80000,90000,100000], labels=[70000,80000,90000,100000], fontsize=25)\n",
    "f.savefig(\"average_prices_c.pdf\", bbox_inches='tight')"
   ]
  },
  {
   "cell_type": "code",
   "execution_count": 23,
   "metadata": {},
   "outputs": [
    {
     "name": "stdout",
     "output_type": "stream",
     "text": [
      "[0.009962640099626401, 0.00481251253258472, 0.005190656817728089, 0.00408905043162199, 0.003870967741935484, 0.0013498920086393088, 0.0026965359883841526, 0.00202020202020202, 0.0028936580660718593, 0.0008375209380234506, 0.0012348728081007657, 0.002743194766828445, 0.0012866700977869274, 0.00047404598246029864, 0.0018428933425478, 0.0017463435931019428, 0.0005918327086210298, 0.001212856276531231, 0.001301841175376604, 0.0015822784810126582, 0.005341384115188109, 0.0009062075215224287, 0.0006864988558352403, 0.0012437810945273632, 0.00048088482808367395, 0.0014207428455449563, 0.00026961445133459155, 0.0006412997007268063, 0.0008048289738430583, 0.0005768121515093252, 0.0006009615384615385, 0.00041511000415110004, 0.00024108003857280618, 0.00020785699438786114, 0.00020128824476650564, 0.0015204170286707212, 0.00025131942699170643, 0.00039984006397441024, 0.00043299415457891317, 0.0004385964912280702, 0.0006100040666937779, 0.0006396588486140725, 0.0002063557573256294, 0.0005967774020290431, 0.0, 0.00034812880765883376, 0.0008345503859795535, 0.0008516074089844582, 0.0004713275726630008, 0.00019193857965451057, 0.00033738191632928474, 0.000899685110211426]\n"
     ]
    }
   ],
   "source": [
    "date_begin = '20160101'\n",
    "test_length = 7\n",
    "\n",
    "start_day = datetime.date(int(date_begin[:4]), int(date_begin[4:6]), int(date_begin[6:8]))\n",
    "period = datetime.timedelta(days=test_length)    \n",
    "end_day = start_day + datetime.timedelta(days=test_length)    \n",
    "\n",
    "old_IID = set()\n",
    "new_proportions = []\n",
    "\n",
    "novel_rate_s = []\n",
    "\n",
    "for week in range(52):\n",
    "    weekly_trade = dfs[(dfs['sgd.date'] < end_day.strftime('%y-%m-%d')) & (dfs['sgd.date'] >= start_day.strftime('%y-%m-%d'))]\n",
    "    start_day = end_day\n",
    "    end_day = start_day + datetime.timedelta(days=test_length)\n",
    "    new_trade = weekly_trade[~weekly_trade['importer.id'].isin(old_IID)]\n",
    "    old_IID = old_IID.union(weekly_trade['importer.id'].values)\n",
    "    try:\n",
    "        novel_rate = sum(new_trade['illicit'])/len(weekly_trade)\n",
    "    except:\n",
    "        novel_rate = np.nan\n",
    "    novel_rate_s.append(novel_rate)\n",
    "print(novel_rate_s)\n",
    "novel_rate_s = np.nan_to_num(np.array(novel_rate_s), nan=0)"
   ]
  },
  {
   "cell_type": "code",
   "execution_count": 24,
   "metadata": {},
   "outputs": [
    {
     "data": {
      "image/png": "[encoded data removed]",
      "text/plain": [
       "<Figure size 432x288 with 1 Axes>"
      ]
     },
     "metadata": {},
     "output_type": "display_data"
    }
   ],
   "source": [
    "plt.style.use('seaborn-whitegrid')\n",
    "f = plt.figure()\n",
    "plt.plot(pd.Series(novel_rate_s).rolling(4).mean(), color='blue')\n",
    "plt.title('Synthetic', fontsize=25)\n",
    "plt.xlabel('Year', fontsize=25)\n",
    "plt.ylabel('Ratio', fontsize=25)\n",
    "plt.xticks(ticks=[0,13,26,39,52], labels=['2016', '','','',19], fontsize=25)\n",
    "plt.yticks(fontsize=25)\n",
    "f.savefig(\"proportion-of-novel-frauds-from-new-importer-c.pdf\", bbox_inches='tight')"
   ]
  },
  {
   "cell_type": "code",
   "execution_count": null,
   "metadata": {},
   "outputs": [],
   "source": []
  },
  {
   "cell_type": "code",
   "execution_count": 25,
   "metadata": {
    "scrolled": true
   },
   "outputs": [
    {
     "ename": "NameError",
     "evalue": "name 'novel_rate_m' is not defined",
     "output_type": "error",
     "traceback": [
      "\u001b[0;31m---------------------------------------------------------------------------\u001b[0m",
      "\u001b[0;31mNameError\u001b[0m                                 Traceback (most recent call last)",
      "\u001b[0;32m<ipython-input-25-c3c1bb858483>\u001b[0m in \u001b[0;36m<module>\u001b[0;34m\u001b[0m\n\u001b[1;32m      1\u001b[0m \u001b[0mplt\u001b[0m\u001b[0;34m.\u001b[0m\u001b[0mstyle\u001b[0m\u001b[0;34m.\u001b[0m\u001b[0muse\u001b[0m\u001b[0;34m(\u001b[0m\u001b[0;34m'seaborn-whitegrid'\u001b[0m\u001b[0;34m)\u001b[0m\u001b[0;34m\u001b[0m\u001b[0;34m\u001b[0m\u001b[0m\n\u001b[1;32m      2\u001b[0m \u001b[0mf\u001b[0m \u001b[0;34m=\u001b[0m \u001b[0mplt\u001b[0m\u001b[0;34m.\u001b[0m\u001b[0mfigure\u001b[0m\u001b[0;34m(\u001b[0m\u001b[0;34m)\u001b[0m\u001b[0;34m\u001b[0m\u001b[0;34m\u001b[0m\u001b[0m\n\u001b[0;32m----> 3\u001b[0;31m \u001b[0mplt\u001b[0m\u001b[0;34m.\u001b[0m\u001b[0mplot\u001b[0m\u001b[0;34m(\u001b[0m\u001b[0mpd\u001b[0m\u001b[0;34m.\u001b[0m\u001b[0mSeries\u001b[0m\u001b[0;34m(\u001b[0m\u001b[0mnovel_rate_m\u001b[0m\u001b[0;34m)\u001b[0m\u001b[0;34m.\u001b[0m\u001b[0mrolling\u001b[0m\u001b[0;34m(\u001b[0m\u001b[0;36m4\u001b[0m\u001b[0;34m)\u001b[0m\u001b[0;34m.\u001b[0m\u001b[0mmean\u001b[0m\u001b[0;34m(\u001b[0m\u001b[0;34m)\u001b[0m\u001b[0;34m,\u001b[0m \u001b[0mcolor\u001b[0m\u001b[0;34m=\u001b[0m\u001b[0;34m'blue'\u001b[0m\u001b[0;34m)\u001b[0m\u001b[0;34m\u001b[0m\u001b[0;34m\u001b[0m\u001b[0m\n\u001b[0m\u001b[1;32m      4\u001b[0m \u001b[0mplt\u001b[0m\u001b[0;34m.\u001b[0m\u001b[0mplot\u001b[0m\u001b[0;34m(\u001b[0m\u001b[0mpd\u001b[0m\u001b[0;34m.\u001b[0m\u001b[0mSeries\u001b[0m\u001b[0;34m(\u001b[0m\u001b[0mnovel_rate_t\u001b[0m\u001b[0;34m)\u001b[0m\u001b[0;34m.\u001b[0m\u001b[0mrolling\u001b[0m\u001b[0;34m(\u001b[0m\u001b[0;36m4\u001b[0m\u001b[0;34m)\u001b[0m\u001b[0;34m.\u001b[0m\u001b[0mmean\u001b[0m\u001b[0;34m(\u001b[0m\u001b[0;34m)\u001b[0m\u001b[0;34m,\u001b[0m \u001b[0mcolor\u001b[0m\u001b[0;34m=\u001b[0m\u001b[0;34m'red'\u001b[0m\u001b[0;34m)\u001b[0m\u001b[0;34m\u001b[0m\u001b[0;34m\u001b[0m\u001b[0m\n\u001b[1;32m      5\u001b[0m \u001b[0mplt\u001b[0m\u001b[0;34m.\u001b[0m\u001b[0mplot\u001b[0m\u001b[0;34m(\u001b[0m\u001b[0mpd\u001b[0m\u001b[0;34m.\u001b[0m\u001b[0mSeries\u001b[0m\u001b[0;34m(\u001b[0m\u001b[0mnovel_rate_n\u001b[0m\u001b[0;34m)\u001b[0m\u001b[0;34m.\u001b[0m\u001b[0mrolling\u001b[0m\u001b[0;34m(\u001b[0m\u001b[0;36m4\u001b[0m\u001b[0;34m)\u001b[0m\u001b[0;34m.\u001b[0m\u001b[0mmean\u001b[0m\u001b[0;34m(\u001b[0m\u001b[0;34m)\u001b[0m\u001b[0;34m,\u001b[0m \u001b[0mcolor\u001b[0m\u001b[0;34m=\u001b[0m\u001b[0;34m'green'\u001b[0m\u001b[0;34m)\u001b[0m\u001b[0;34m\u001b[0m\u001b[0;34m\u001b[0m\u001b[0m\n",
      "\u001b[0;31mNameError\u001b[0m: name 'novel_rate_m' is not defined"
     ]
    },
    {
     "data": {
      "text/plain": [
       "<Figure size 432x288 with 0 Axes>"
      ]
     },
     "metadata": {},
     "output_type": "display_data"
    }
   ],
   "source": [
    "plt.style.use('seaborn-whitegrid')\n",
    "f = plt.figure()\n",
    "plt.plot(pd.Series(novel_rate_m).rolling(4).mean(), color='blue')\n",
    "plt.plot(pd.Series(novel_rate_t).rolling(4).mean(), color='red')\n",
    "plt.plot(pd.Series(novel_rate_n).rolling(4).mean(), color='green')\n",
    "plt.title('Country M', fontsize=25)\n",
    "plt.xlabel('Year', fontsize=25)\n",
    "plt.ylabel('Ratio', fontsize=25)\n",
    "plt.xticks(ticks=[0,51,103,155,207], labels=['2013', 14, 15, 16,17], fontsize=25)\n",
    "plt.yticks(fontsize=25)\n",
    "f.savefig(\"proportion-of-novel-frauds-from-new-importer-mnt.pdf\", bbox_inches='tight')"
   ]
  },
  {
   "cell_type": "code",
   "execution_count": null,
   "metadata": {},
   "outputs": [],
   "source": []
  },
  {
   "cell_type": "code",
   "execution_count": null,
   "metadata": {},
   "outputs": [],
   "source": []
  }
 ],
 "metadata": {
  "kernelspec": {
   "display_name": "Python 3",
   "language": "python",
   "name": "python3"
  },
  "language_info": {
   "codemirror_mode": {
    "name": "ipython",
    "version": 3
   },
   "file_extension": ".py",
   "mimetype": "text/x-python",
   "name": "python",
   "nbconvert_exporter": "python",
   "pygments_lexer": "ipython3",
   "version": "3.8.5"
  }
 },
 "nbformat": 4,
 "nbformat_minor": 2
}
