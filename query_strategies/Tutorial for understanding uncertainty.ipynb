{
 "cells": [
  {
   "cell_type": "markdown",
   "metadata": {},
   "source": [
    "# Simple tutorial for understanding uncertainty part"
   ]
  },
  {
   "cell_type": "markdown",
   "metadata": {},
   "source": [
    "* This notebook file is not intended to execute. Please run the python files (active_DATE.py or further version) instead of running the blocks in this notebook."
   ]
  },
  {
   "cell_type": "markdown",
   "metadata": {},
   "source": [
    "## 1. active_DATE.py"
   ]
  },
  {
   "cell_type": "markdown",
   "metadata": {},
   "source": [
    "In active_DATE.py, there is a parameter for the uncertainty principle : --uncertainty naive or --uncertainty self-supervised."
   ]
  },
  {
   "cell_type": "code",
   "execution_count": null,
   "metadata": {},
   "outputs": [],
   "source": [
    "parser.add_argument('--uncertainty', type=str, default = 'naive', choices = ['naive', 'self-supervised'], help = 'Uncertainty principle : ambiguity of illicitness or self-supervised manner prediction')"
   ]
  },
  {
   "cell_type": "markdown",
   "metadata": {},
   "source": [
    "### 1.1 Naive uncertainty principle : ambiguity of illicitness (--uncertainty naive)"
   ]
  },
  {
   "cell_type": "markdown",
   "metadata": {},
   "source": [
    "In each sampling strategies with needs of uncertainty score, the function get_uncertainty() will do this :"
   ]
  },
  {
   "cell_type": "code",
   "execution_count": null,
   "metadata": {},
   "outputs": [],
   "source": [
    "def get_uncertainty(self):\n",
    "    if self.uncertainty_module is None :\n",
    "#         return np.asarray(self.get_output().apply(lambda x : -1.8*abs(x-0.5) + 1)) : This line is deprecated.\n",
    "        return np.asarray(-1.8*abs(self.get_output()-0.5) + 1) # This line will be worked\n",
    "#     uncertainty = self.uncertainty_module.measure(self.uncertainty_module.test_data ,'feature_importance')\n",
    "#     return np.asarray(uncertainty)[self.available_indices] :These two lines are for self-supervised uncertainty."
   ]
  },
  {
   "cell_type": "markdown",
   "metadata": {},
   "source": [
    "From self.get_output(), we bring the illicitness probability from the DATE model. Then appling below function, we determine the uncertainty score between 0.1 to 1."
   ]
  },
  {
   "cell_type": "code",
   "execution_count": 1,
   "metadata": {},
   "outputs": [
    {
     "data": {
      "image/png": "[encoded data removed]",
      "text/plain": [
       "<Figure size 432x288 with 1 Axes>"
      ]
     },
     "metadata": {
      "needs_background": "light"
     },
     "output_type": "display_data"
    }
   ],
   "source": [
    "import matplotlib.pyplot as plt\n",
    "import numpy as np\n",
    "\n",
    "r = np.arange(0, 1, 0.01)\n",
    "x = [a for a in r]\n",
    "y = [-1.8*abs(b-0.5) + 1 for b in r]\n",
    "plt.plot(x, y)\n",
    "plt.xlabel('illicitness probability')\n",
    "plt.ylabel('uncertainty')\n",
    "plt.show()"
   ]
  },
  {
   "cell_type": "markdown",
   "metadata": {},
   "source": [
    "This is reasonable because the illicitness probability that is close to 0.5 is ambiguous to determine illicit or not from our model's point of view. Otherwise, if the illicitness probability is in both ends, then the illicitness is confidently illicit, or not."
   ]
  },
  {
   "cell_type": "markdown",
   "metadata": {},
   "source": [
    "### 1.2 Self-supervised uncertainty principle : prediction of features with risky profiling (--uncertainty self-supervised)"
   ]
  },
  {
   "cell_type": "markdown",
   "metadata": {},
   "source": [
    "#### 1.2.1. Initialize the uncertainty module"
   ]
  },
  {
   "cell_type": "markdown",
   "metadata": {},
   "source": [
    "In active_DATE.py, the uncertainty module will be generated if the sampling startegy needs. With training data, the uncertainty module will train each masked-feature predicitors."
   ]
  },
  {
   "cell_type": "code",
   "execution_count": null,
   "metadata": {},
   "outputs": [],
   "source": [
    "if unc_mode == 'self-supervised' :\n",
    "    if samp in ['badge_DATE', 'diversity', 'hybrid']:\n",
    "        if uncertainty_module is None :\n",
    "            uncertainty_module = uncertainty.Uncertainty(train_labeled_data, './uncertainty_models/')\n",
    "            uncertainty_module.train()\n",
    "        uncertainty_module.test_data = test_data"
   ]
  },
  {
   "cell_type": "code",
   "execution_count": null,
   "metadata": {},
   "outputs": [],
   "source": [
    "class Uncertainty :\n",
    "\n",
    "    # Features to use : If we use the real data, please fit the feature names properly.\n",
    "    numerical_features = ['fob.value', 'cif.value', 'total.taxes', 'gross.weight', 'quantity', 'Unitprice', 'WUnitprice', 'TaxRatio', 'FOBCIFRatio', 'TaxUnitquantity']\n",
    "    categorical_features = ['RiskH.importer.id', 'RiskH.declarant.id',\n",
    "        'RiskH.HS6.Origin', 'RiskH.tariff.code', 'RiskH.HS6',\n",
    "        'RiskH.HS4', 'RiskH.HS2', 'RiskH.office.id']\n",
    "    column_to_use_unc_measure = numerical_features + categorical_features\n",
    "\n",
    "    def __init__(self, labeled_data, path = './uncertainty_models/') :\n",
    "        self.classifiers = dict()\n",
    "        self.regressors = dict()\n",
    "        self.data = pd.DataFrame(labeled_data)\n",
    "        self.importance_classifier = None\n",
    "        self.test_data = None\n",
    "        self.path = path"
   ]
  },
  {
   "cell_type": "code",
   "execution_count": null,
   "metadata": {},
   "outputs": [],
   "source": [
    "# Initial training with training data\n",
    "\n",
    "def train(self) :\n",
    "    for cc in self.categorical_features :\n",
    "        print('Train for '+cc)\n",
    "        columns = [col for col in self.column_to_use_unc_measure if col != cc]\n",
    "        train_set = pd.DataFrame(self.data, columns = columns)\n",
    "        xgb_clf = XGBClassifier(n_jobs=-1)\n",
    "        xgb_clf.fit(train_set ,self.data[cc].values)\n",
    "        self.classifiers[cc] = xgb_clf\n",
    "        xgb_clf.save_model(self.path + cc + '.model')\n",
    "\n",
    "    for nc in self.numerical_features :\n",
    "        print('Train for '+nc)\n",
    "        columns = [col for col in self.column_to_use_unc_measure if col != nc]\n",
    "        train_set = pd.DataFrame(self.data, columns = columns)\n",
    "        xgb_reg = XGBRegressor(n_jobs=-1)\n",
    "        xgb_reg.fit(train_set, self.data[nc].values)\n",
    "        self.regressors[nc] = xgb_reg\n",
    "        xgb_reg.save_model(self.path + nc + '.model')\n",
    "\n",
    "    self.importance_classifier = XGBClassifier(n_jobs=-1)\n",
    "    self.importance_classifier.fit(pd.DataFrame(self.data, columns=self.column_to_use_unc_measure), pd.DataFrame(self.data, columns=['illicit']).values.ravel())\n",
    "    self.importance_classifier.save_model(self.path + 'imp' + '.model')"
   ]
  },
  {
   "cell_type": "markdown",
   "metadata": {},
   "source": [
    "#### 1.2.2. Uncertainty measurement"
   ]
  },
  {
   "cell_type": "markdown",
   "metadata": {},
   "source": [
    "For sampling strategies which need the uncertainty measurement, uncertainty score will be given by get_uncertainty function. The uncertainty score from here is applied in the query function of those sampling strategies."
   ]
  },
  {
   "cell_type": "code",
   "execution_count": null,
   "metadata": {},
   "outputs": [],
   "source": [
    "def get_uncertainty(self):\n",
    "    if self.uncertainty_module is None :\n",
    "#         return np.asarray(self.get_output().apply(lambda x : -1.8*abs(x-0.5) + 1)) : This line is deprecated.\n",
    "#         return np.asarray(-1.8*abs(self.get_output()-0.5) + 1) : This line is for naive uncertainty.\n",
    "    uncertainty = self.uncertainty_module.measure(self.uncertainty_module.test_data ,'feature_importance')\n",
    "    return np.asarray(uncertainty)[self.available_indices]"
   ]
  },
  {
   "cell_type": "code",
   "execution_count": null,
   "metadata": {},
   "outputs": [],
   "source": [
    "# Measure the uncertainty of given test data from uncertainty module\n",
    "def measure(self, test_data, option) :\n",
    "    print('Uncertainty measure')\n",
    "    unc = pd.DataFrame()\n",
    "\n",
    "    for cc in self.categorical_features :\n",
    "        print('Uncertainty measure : '+cc)\n",
    "        columns = [col for col in self.column_to_use_unc_measure if col != cc]\n",
    "        test_set = pd.DataFrame(test_data, columns = columns)\n",
    "        xgb_clf_pred = self.classifiers[cc].predict(test_set)\n",
    "        unc['unc.'+cc] = np.bitwise_xor(test_data[cc], xgb_clf_pred.tolist())\n",
    "        unc['unc.'+cc] = unc['unc.'+cc].apply(lambda x : 0.9*x + 0.1)\n",
    "\n",
    "        for idx, cat in enumerate(test_data[cc[6:]]) :\n",
    "            if cat not in set(self.data[cc[6:]]) :\n",
    "                unc['unc.'+cc][idx] = 1\n",
    "\n",
    "    for nc in self.numerical_features :\n",
    "        print('Uncertainty measure : '+nc)\n",
    "        columns = [col for col in self.column_to_use_unc_measure if col != nc]\n",
    "        test_set = pd.DataFrame(test_data, columns = columns)\n",
    "        xgb_reg_pred = self.regressors[nc].predict(test_set)\n",
    "        unc['unc.'+nc] = abs(test_data[nc] - xgb_reg_pred.tolist()) / test_data[nc]\n",
    "        unc['unc.'+nc] = np.clip(np.asarray(unc['unc.'+nc]), 0, 1)\n",
    "        unc['unc.'+nc] = unc['unc.'+nc].apply(lambda x : 0.9*x + 0.1)\n",
    "\n",
    "    if option == 'naive' :\n",
    "        # Model 1 : Naive equally-contributing uncertainty (mean)\n",
    "        return unc.mean(axis=1)\n",
    "\n",
    "    elif option == 'feature_importance' :\n",
    "        # Model 2 : Feature importance from illicitness\n",
    "        return unc.dot(self.importance_classifier.feature_importances_ / sum(self.importance_classifier.feature_importances_))"
   ]
  },
  {
   "cell_type": "markdown",
   "metadata": {},
   "source": [
    "#### 1.2.3. Retrain after query the samples"
   ]
  },
  {
   "cell_type": "markdown",
   "metadata": {},
   "source": [
    "After our sampling strategy select the samples to query, then we can retrain the model to reflect selected samples."
   ]
  },
  {
   "cell_type": "code",
   "execution_count": null,
   "metadata": {},
   "outputs": [],
   "source": [
    "    # tune the uncertainty\n",
    "    if unc_mode == 'self-supervised' :\n",
    "        if samp in ['badge_DATE', 'diversity', 'hybrid']:\n",
    "            uncertainty_module.retrain(test_data.iloc[indices - offset])"
   ]
  },
  {
   "cell_type": "code",
   "execution_count": null,
   "metadata": {},
   "outputs": [],
   "source": [
    "# Retrain the individual predictors by using queried samples\n",
    "def retrain(self, queried_samples) :\n",
    "    for cc in self.categorical_features :\n",
    "        columns = [col for col in self.column_to_use_unc_measure if col != cc]\n",
    "        train_set = pd.DataFrame(queried_samples, columns = columns)\n",
    "        self.classifiers[cc].fit(train_set, queried_samples[cc].values, xgb_model = self.path + cc +'.model')\n",
    "        self.classifiers[cc].save_model(self.path + cc + '.model')\n",
    "\n",
    "    for nc in self.numerical_features :\n",
    "        columns = [col for col in self.column_to_use_unc_measure if col != nc]\n",
    "        train_set = pd.DataFrame(queried_samples, columns = columns)\n",
    "        self.regressors[nc].fit(train_set, queried_samples[nc].values, xgb_model = self.path + nc+'.model')\n",
    "        self.regressors[nc].save_model(self.path + nc + '.model')\n",
    "\n",
    "    self.importance_classifier.save_model(self.path + 'imp' + '.model')\n",
    "    self.data.append(pd.DataFrame(queried_samples, columns = self.column_to_use_unc_measure))"
   ]
  },
  {
   "cell_type": "markdown",
   "metadata": {},
   "source": [
    "## 2. Notes"
   ]
  },
  {
   "cell_type": "markdown",
   "metadata": {},
   "source": [
    "* If the dataset changes from synthetic to real, then you have to change the feature names in uncertainty.py as follow:"
   ]
  },
  {
   "cell_type": "code",
   "execution_count": null,
   "metadata": {},
   "outputs": [],
   "source": [
    "# Features to use : If we use the real data, please fit the feature names properly.\n",
    "numerical_features = ['fob.value', 'cif.value', 'total.taxes', 'gross.weight', 'quantity', 'Unitprice', 'WUnitprice', 'TaxRatio', 'FOBCIFRatio', 'TaxUnitquantity']\n",
    "categorical_features = ['RiskH.importer.id', 'RiskH.declarant.id',\n",
    "    'RiskH.HS6.Origin', 'RiskH.tariff.code', 'RiskH.HS6',\n",
    "    'RiskH.HS4', 'RiskH.HS2', 'RiskH.office.id']\n",
    "column_to_use_unc_measure = numerical_features + categorical_features"
   ]
  }
 ],
 "metadata": {
  "kernelspec": {
   "display_name": "Python 3",
   "language": "python",
   "name": "python3"
  },
  "language_info": {
   "codemirror_mode": {
    "name": "ipython",
    "version": 3
   },
   "file_extension": ".py",
   "mimetype": "text/x-python",
   "name": "python",
   "nbconvert_exporter": "python",
   "pygments_lexer": "ipython3",
   "version": "3.7.7"
  }
 },
 "nbformat": 4,
 "nbformat_minor": 4
}
