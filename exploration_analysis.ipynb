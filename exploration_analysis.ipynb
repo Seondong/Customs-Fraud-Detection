{
 "cells": [
  {
   "cell_type": "code",
   "execution_count": 1,
   "metadata": {},
   "outputs": [],
   "source": [
    "import numpy as np\n",
    "import pandas as pd\n",
    "import glob \n",
    "import os\n",
    "import datetime\n",
    "pd.options.display.max_columns=50"
   ]
  },
  {
   "cell_type": "code",
   "execution_count": 1,
   "metadata": {},
   "outputs": [
    {
     "ename": "NameError",
     "evalue": "name 'glob' is not defined",
     "output_type": "error",
     "traceback": [
      "\u001b[0;31m---------------------------------------------------------------------------\u001b[0m",
      "\u001b[0;31mNameError\u001b[0m                                 Traceback (most recent call last)",
      "\u001b[0;32m<ipython-input-1-66c90dd08694>\u001b[0m in \u001b[0;36m<module>\u001b[0;34m\u001b[0m\n\u001b[0;32m----> 1\u001b[0;31m \u001b[0mresults\u001b[0m \u001b[0;34m=\u001b[0m \u001b[0mglob\u001b[0m\u001b[0;34m.\u001b[0m\u001b[0mglob\u001b[0m\u001b[0;34m(\u001b[0m\u001b[0;34m'./results/performances/www21-result-*'\u001b[0m\u001b[0;34m)\u001b[0m   \u001b[0;31m# prelim-all-include-semi/\u001b[0m\u001b[0;34m\u001b[0m\u001b[0;34m\u001b[0m\u001b[0m\n\u001b[0m\u001b[1;32m      2\u001b[0m \u001b[0mlist1\u001b[0m\u001b[0;34m,\u001b[0m \u001b[0mlist2\u001b[0m \u001b[0;34m=\u001b[0m \u001b[0mzip\u001b[0m\u001b[0;34m(\u001b[0m\u001b[0;34m*\u001b[0m\u001b[0msorted\u001b[0m\u001b[0;34m(\u001b[0m\u001b[0mzip\u001b[0m\u001b[0;34m(\u001b[0m\u001b[0;34m[\u001b[0m\u001b[0mos\u001b[0m\u001b[0;34m.\u001b[0m\u001b[0mstat\u001b[0m\u001b[0;34m(\u001b[0m\u001b[0mresult\u001b[0m\u001b[0;34m)\u001b[0m\u001b[0;34m.\u001b[0m\u001b[0mst_size\u001b[0m \u001b[0;32mfor\u001b[0m \u001b[0mresult\u001b[0m \u001b[0;32min\u001b[0m \u001b[0mresults\u001b[0m\u001b[0;34m]\u001b[0m\u001b[0;34m,\u001b[0m \u001b[0mresults\u001b[0m\u001b[0;34m)\u001b[0m\u001b[0;34m)\u001b[0m\u001b[0;34m)\u001b[0m\u001b[0;34m\u001b[0m\u001b[0;34m\u001b[0m\u001b[0m\n",
      "\u001b[0;31mNameError\u001b[0m: name 'glob' is not defined"
     ]
    }
   ],
   "source": [
    "results = glob.glob('./results/performances/www21-result-*')   # prelim-all-include-semi/\n",
    "list1, list2 = zip(*sorted(zip([os.stat(result).st_size for result in results], results)))"
   ]
  },
  {
   "cell_type": "code",
   "execution_count": null,
   "metadata": {},
   "outputs": [],
   "source": []
  },
  {
   "cell_type": "code",
   "execution_count": 3,
   "metadata": {},
   "outputs": [],
   "source": [
    "results = glob.glob('./results/query_indices/*/')"
   ]
  },
  {
   "cell_type": "code",
   "execution_count": 4,
   "metadata": {},
   "outputs": [
    {
     "data": {
      "text/plain": [
       "['./results/query_indices/1602592798.118/']"
      ]
     },
     "execution_count": 4,
     "metadata": {},
     "output_type": "execute_result"
    }
   ],
   "source": [
    "results"
   ]
  },
  {
   "cell_type": "code",
   "execution_count": 5,
   "metadata": {},
   "outputs": [
    {
     "ename": "IndexError",
     "evalue": "tuple index out of range",
     "output_type": "error",
     "traceback": [
      "\u001b[0;31m---------------------------------------------------------------------------\u001b[0m",
      "\u001b[0;31mIndexError\u001b[0m                                Traceback (most recent call last)",
      "\u001b[0;32m<ipython-input-5-1e2ff35249d9>\u001b[0m in \u001b[0;36m<module>\u001b[0;34m\u001b[0m\n\u001b[1;32m      1\u001b[0m \u001b[0mlist1\u001b[0m\u001b[0;34m,\u001b[0m \u001b[0mlist2\u001b[0m \u001b[0;34m=\u001b[0m \u001b[0mzip\u001b[0m\u001b[0;34m(\u001b[0m\u001b[0;34m*\u001b[0m\u001b[0msorted\u001b[0m\u001b[0;34m(\u001b[0m\u001b[0mzip\u001b[0m\u001b[0;34m(\u001b[0m\u001b[0;34m[\u001b[0m\u001b[0mos\u001b[0m\u001b[0;34m.\u001b[0m\u001b[0mstat\u001b[0m\u001b[0;34m(\u001b[0m\u001b[0mresult\u001b[0m\u001b[0;34m)\u001b[0m\u001b[0;34m.\u001b[0m\u001b[0mst_size\u001b[0m \u001b[0;32mfor\u001b[0m \u001b[0mresult\u001b[0m \u001b[0;32min\u001b[0m \u001b[0mresults\u001b[0m\u001b[0;34m]\u001b[0m\u001b[0;34m,\u001b[0m \u001b[0mresults\u001b[0m\u001b[0;34m)\u001b[0m\u001b[0;34m)\u001b[0m\u001b[0;34m)\u001b[0m\u001b[0;34m\u001b[0m\u001b[0;34m\u001b[0m\u001b[0m\n\u001b[0;32m----> 2\u001b[0;31m \u001b[0mdf\u001b[0m \u001b[0;34m=\u001b[0m \u001b[0mpd\u001b[0m\u001b[0;34m.\u001b[0m\u001b[0mread_csv\u001b[0m\u001b[0;34m(\u001b[0m\u001b[0mlist2\u001b[0m\u001b[0;34m[\u001b[0m\u001b[0;34m-\u001b[0m\u001b[0;36m15\u001b[0m\u001b[0;34m]\u001b[0m\u001b[0;34m,\u001b[0m \u001b[0mskiprows\u001b[0m \u001b[0;34m=\u001b[0m \u001b[0;36m1\u001b[0m\u001b[0;34m)\u001b[0m\u001b[0;34m\u001b[0m\u001b[0;34m\u001b[0m\u001b[0m\n\u001b[0m",
      "\u001b[0;31mIndexError\u001b[0m: tuple index out of range"
     ]
    }
   ],
   "source": [
    "\n",
    "list1, list2 = zip(*sorted(zip([os.stat(result).st_size for result in results], results))) \n",
    "df = pd.read_csv(list2[-15], skiprows = 1)"
   ]
  },
  {
   "cell_type": "markdown",
   "metadata": {},
   "source": [
    "### Result of Hybrid Experiments"
   ]
  },
  {
   "cell_type": "code",
   "execution_count": null,
   "metadata": {},
   "outputs": [],
   "source": [
    "import csv\n",
    "\n",
    "run_id_saver = [('hybrid', 1602420493.392)]\n",
    "results = {}\n",
    "num_weeks = 5 # ToDo: to be automatically determined\n",
    "\n",
    "for strategy, run_id in run_id_saver:\n",
    "    results[run_id] = {}\n",
    "    for week in range(num_weeks):\n",
    "        filename = f'results/query_indices/{run_id}/{run_id}-{strategy}-5.0-scratch-week-{week}.csv'\n",
    "        with open(filename, \"r\") as f:\n",
    "            reader = csv.reader(f, delimiter=\",\")\n",
    "            expid = next(reader)[1]\n",
    "            dataset = next(reader)[1]\n",
    "            episode = next(reader)[1]\n",
    "            start_day = next(reader)[1]\n",
    "            end_day = next(reader)[1]\n",
    "            \n",
    "            start_day = datetime.date(int(start_day[:4]), int(start_day[5:7]), int(start_day[8:10])).strftime('%y-%m-%d')\n",
    "            end_day = datetime.date(int(end_day[:4]), int(end_day[5:7]), int(end_day[8:10])).strftime('%y-%m-%d')\n",
    "            \n",
    "            if week == 0:\n",
    "                if dataset == 'real-n':\n",
    "                    df = pd.read_csv('data/ndata.csv')\n",
    "                elif dataset == 'real-t':\n",
    "                    df = pd.read_csv('data/tdata.csv')\n",
    "                elif dataset == 'real-m':\n",
    "                    df = pd.read_csv('data/mdata.csv')\n",
    "                elif dataset == 'synthetic':\n",
    "                    df = pd.read_csv('data/synthetic-imports-declarations.csv')\n",
    "                \n",
    "            alldata = df[(df['sgd.date'] < end_day) & (df['sgd.date'] >= start_day)].loc[:, ['illicit', 'revenue']]\n",
    "            \n",
    "            while True:\n",
    "                try:\n",
    "                    indices = next(reader)\n",
    "                    samp = indices[0]\n",
    "                    indices = indices[1:]\n",
    "                    indices = list(map(int, indices))\n",
    "\n",
    "                    if week == 0:\n",
    "                        results[run_id][f'{samp}-pre'] = []\n",
    "                        results[run_id][f'{samp}-rec'] = []\n",
    "                        results[run_id][f'{samp}-rev'] = []\n",
    "\n",
    "                    chosen = df.iloc[indices].loc[:, ['illicit', 'revenue']]\n",
    "                    # Recall and revenue\n",
    "                    if chosen.empty:\n",
    "                        pre = rec = rev = 0\n",
    "                    else:\n",
    "                        pre = sum(chosen['illicit'])/chosen['illicit'].count()\n",
    "                        rec = sum(chosen['illicit'])/sum(alldata['illicit'])\n",
    "                        rev = sum(chosen['revenue'])/sum(alldata['revenue'])\n",
    "\n",
    "                    print(f'Week {week}, subsampler {samp}: Precision {round(pre, 4)} Recall {round(rec, 4)}, Revenue {round(rev, 4)}')\n",
    "                    results[run_id][f'{samp}-pre'].append(pre)\n",
    "                    results[run_id][f'{samp}-rec'].append(rec)\n",
    "                    results[run_id][f'{samp}-rev'].append(rev)\n",
    "                \n",
    "                except StopIteration:\n",
    "                    break"
   ]
  },
  {
   "cell_type": "code",
   "execution_count": null,
   "metadata": {},
   "outputs": [],
   "source": [
    "run_id = 1602420493.392\n",
    "pd.DataFrame.from_dict(results[run_id])"
   ]
  },
  {
   "cell_type": "markdown",
   "metadata": {},
   "source": [
    "### Result to find novel frauds"
   ]
  },
  {
   "cell_type": "code",
   "execution_count": null,
   "metadata": {},
   "outputs": [],
   "source": [
    "run_id_saver = [('hybrid', 1602420493.392)]\n",
    "\n",
    "novelty = {}\n",
    "num_weeks = 5 # ToDo: to be automatically determined\n",
    "old_IID = set()\n",
    "\n",
    "for strategy, run_id in run_id_saver:\n",
    "    novelty[run_id] = {}\n",
    "    for week in range(num_weeks):\n",
    "        filename = f'results/query_indices/{run_id}/{run_id}-{strategy}-5.0-scratch-week-{week}.csv'\n",
    "        with open(filename, \"r\") as f:\n",
    "            reader = csv.reader(f, delimiter=\",\")\n",
    "            expid = next(reader)[1]\n",
    "            dataset = next(reader)[1]\n",
    "            episode = next(reader)[1]\n",
    "            start_day = next(reader)[1]\n",
    "            end_day = next(reader)[1]\n",
    "            \n",
    "            start_day = datetime.date(int(start_day[:4]), int(start_day[5:7]), int(start_day[8:10])).strftime('%y-%m-%d')\n",
    "            end_day = datetime.date(int(end_day[:4]), int(end_day[5:7]), int(end_day[8:10])).strftime('%y-%m-%d')\n",
    "            \n",
    "            if week == 0:\n",
    "                if dataset == 'real-n':\n",
    "                    df = pd.read_csv('data/ndata.csv')\n",
    "                elif dataset == 'real-t':\n",
    "                    df = pd.read_csv('data/tdata.csv')\n",
    "                elif dataset == 'real-m':\n",
    "                    df = pd.read_csv('data/mdata.csv')\n",
    "                elif dataset == 'synthetic':\n",
    "                    df = pd.read_csv('data/synthetic-imports-declarations.csv')\n",
    "                \n",
    "            alldata = df[(df['sgd.date'] < end_day) & (df['sgd.date'] >= start_day)].loc[:, ['illicit', 'revenue', 'importer.id']]\n",
    "            alldata = alldata[~alldata['importer.id'].isin(old_IID)]\n",
    "            \n",
    "            if alldata.empty:\n",
    "                continue\n",
    "            \n",
    "            while True:\n",
    "                try:\n",
    "                    indices = next(reader)\n",
    "                    samp = indices[0]\n",
    "                    indices = indices[1:]\n",
    "                    indices = list(map(int, indices))\n",
    "\n",
    "                    if week == 0:\n",
    "                        novelty[run_id][f'{samp}-pre'] = []\n",
    "                        novelty[run_id][f'{samp}-rec'] = []\n",
    "                        novelty[run_id][f'{samp}-rev'] = []\n",
    "\n",
    "                    chosen = df.iloc[indices]\n",
    "                    chosen = chosen[~chosen['importer.id'].isin(old_IID)]\n",
    "                    \n",
    "                    # Recall and revenue\n",
    "                    if chosen.empty:\n",
    "                        pre = rec = rev = 0\n",
    "                    else:\n",
    "                        pre = sum(chosen['illicit'])/chosen['illicit'].count()\n",
    "                        rec = sum(chosen['illicit'])/sum(alldata['illicit'])\n",
    "                        rev = sum(chosen['revenue'])/sum(alldata['revenue'])\n",
    "\n",
    "                    print(f'Week {week}, subsampler {samp}: Precision {round(pre, 4)} Recall {round(rec, 4)}, Revenue {round(rev, 4)}')\n",
    "                    novelty[run_id][f'{samp}-pre'].append(pre)\n",
    "                    novelty[run_id][f'{samp}-rec'].append(rec)\n",
    "                    novelty[run_id][f'{samp}-rev'].append(rev)\n",
    "                \n",
    "                    old_IID = old_IID.union(set(alldata['importer.id'].values))\n",
    "                    \n",
    "                except StopIteration:\n",
    "                    break\n"
   ]
  },
  {
   "cell_type": "code",
   "execution_count": null,
   "metadata": {},
   "outputs": [],
   "source": [
    "run_id = 1602420493.392\n",
    "pd.DataFrame.from_dict(novelty[run_id])"
   ]
  }
 ],
 "metadata": {
  "kernelspec": {
   "display_name": "Python 3",
   "language": "python",
   "name": "python3"
  },
  "language_info": {
   "codemirror_mode": {
    "name": "ipython",
    "version": 3
   },
   "file_extension": ".py",
   "mimetype": "text/x-python",
   "name": "python",
   "nbconvert_exporter": "python",
   "pygments_lexer": "ipython3",
   "version": "3.7.6"
  }
 },
 "nbformat": 4,
 "nbformat_minor": 2
}
